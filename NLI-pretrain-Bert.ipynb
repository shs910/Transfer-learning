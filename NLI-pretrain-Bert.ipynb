{
 "cells": [
  {
   "cell_type": "markdown",
   "metadata": {
    "collapsed": false
   },
   "source": [
    "请点击[此处](https://ai.baidu.com/docs#/AIStudio_Project_Notebook/a38e5576)查看本环境基本用法.  <br>\n",
    "Please click [here ](https://ai.baidu.com/docs#/AIStudio_Project_Notebook/a38e5576) for more detailed instructions. "
   ]
  },
  {
   "cell_type": "code",
   "execution_count": null,
   "metadata": {
    "collapsed": false
   },
   "outputs": [],
   "source": []
  },
  {
   "cell_type": "markdown",
   "metadata": {
    "collapsed": false
   },
   "source": [
    "# NLI2STS迁移学习实验"
   ]
  },
  {
   "cell_type": "code",
   "execution_count": 1,
   "metadata": {
    "collapsed": false
   },
   "outputs": [],
   "source": [
    "import paddle\r\n",
    "import paddlenlp\r\n",
    "import json\r\n",
    "import paddle.nn as nn\r\n",
    "import numpy as np\r\n",
    "import jieba\r\n",
    "import time\r\n",
    "import os\r\n",
    "import paddle.nn.functional as F\r\n",
    "from functools import partial\r\n",
    "from paddlenlp.embeddings import TokenEmbedding\r\n",
    "from paddlenlp.data import JiebaTokenizer\r\n",
    "from paddlenlp.data import Stack, Tuple, Pad, Dict\r\n",
    "from paddle.io import Dataset\r\n",
    "from tqdm import tqdm\r\n",
    "from paddlenlp.data import JiebaTokenizer\r\n",
    "from sklearn.metrics import f1_score\r\n",
    "from paddlenlp import seq2vec #编码器"
   ]
  },
  {
   "cell_type": "markdown",
   "metadata": {
    "collapsed": false
   },
   "source": [
    "## 参数类"
   ]
  },
  {
   "cell_type": "code",
   "execution_count": 2,
   "metadata": {
    "collapsed": false
   },
   "outputs": [],
   "source": [
    "#{'entailment': 16779, 'neutral': 17182, 'contradiction': 16476}\r\n",
    "#data_num=1k;5k;10k\r\n",
    "class parameters_dict():\r\n",
    "    def __init__(self,lr=5e-5,max_epoch=15,batch_size=128,encoder_dim=400,embedding_dim=300,class_dim=3,\\\r\n",
    "    encoder=\"Bert\",eval_step=200,log_step=70,dropout_p=0.4,data_savepath='data_save/1k/',weight_decay=0.000,data_num=16000):\r\n",
    "        self.lr=lr\r\n",
    "        self.max_epoch=max_epoch\r\n",
    "        self.batch_size=batch_size\r\n",
    "        self.encoder_dim=encoder_dim\r\n",
    "        self.encder=encoder\r\n",
    "        self.eval_step=eval_step\r\n",
    "        self.log_step=log_step\r\n",
    "        self.dropout_p=dropout_p\r\n",
    "        self.data_savepath=data_savepath\r\n",
    "        self.embedding_dim=embedding_dim\r\n",
    "        self.class_dim=class_dim\r\n",
    "        self.weight_decay=weight_decay\r\n",
    "        self.data_num=data_num\r\n",
    "\r\n",
    "parameters=parameters_dict()"
   ]
  },
  {
   "cell_type": "markdown",
   "metadata": {
    "collapsed": false
   },
   "source": [
    "## NLI数据预处理"
   ]
  },
  {
   "cell_type": "code",
   "execution_count": 3,
   "metadata": {
    "collapsed": false
   },
   "outputs": [
    {
     "data": {
      "text/plain": [
       "'!unzip data/data143287/ocnli_public.zip -d data/'"
      ]
     },
     "execution_count": 3,
     "metadata": {},
     "output_type": "execute_result"
    }
   ],
   "source": [
    "'''!unzip data/data143287/ocnli_public.zip -d data/'''"
   ]
  },
  {
   "cell_type": "markdown",
   "metadata": {
    "collapsed": false
   },
   "source": [
    "## 构建数据加载类"
   ]
  },
  {
   "cell_type": "code",
   "execution_count": 4,
   "metadata": {
    "collapsed": false
   },
   "outputs": [
    {
     "name": "stderr",
     "output_type": "stream",
     "text": [
      "[2022-05-02 12:17:56,564] [    INFO] - Found /home/aistudio/.paddlenlp/models/bert-wwm-chinese/bert-wwm-chinese-vocab.txt\n",
      "[2022-05-02 12:17:56,580] [    INFO] - Already cached /home/aistudio/.paddlenlp/models/bert-wwm-chinese/bert-wwm-chinese.pdparams\n",
      "W0502 12:17:56.583901  5942 device_context.cc:447] Please NOTE: device: 0, GPU Compute Capability: 7.0, Driver API Version: 10.1, Runtime API Version: 10.1\n",
      "W0502 12:17:56.588887  5942 device_context.cc:465] device: 0, cuDNN Version: 7.6.\n"
     ]
    }
   ],
   "source": [
    "#加载与预训练的Bert模型\r\n",
    "from paddlenlp.transformers import BertModel,BertTokenizer\r\n",
    "\r\n",
    "#加载预训练的Bert模型\r\n",
    "tokenizer_bert = BertTokenizer.from_pretrained('bert-wwm-chinese')\r\n",
    "bert_encode = BertModel.from_pretrained('bert-wwm-chinese')"
   ]
  },
  {
   "cell_type": "code",
   "execution_count": 5,
   "metadata": {
    "collapsed": false
   },
   "outputs": [],
   "source": [
    "\r\n",
    "def for_Bert_transfunc(sample,tokenizer,max_seq_length=512):\r\n",
    "    query=sample['sentence1']\r\n",
    "    title=sample['sentence2']\r\n",
    "    encoded_inputs = tokenizer(\r\n",
    "        text=query, text_pair=title, max_seq_len=max_seq_length)\r\n",
    "    if 'label' in sample.keys():\r\n",
    "        #注意将label进行转换\r\n",
    "        encoded_inputs['label']=np.array(sample['label'],dtype=\"float32\")\r\n",
    "    return encoded_inputs\r\n",
    "\r\n",
    "bert_transfunc=partial(for_Bert_transfunc,tokenizer=tokenizer_bert,max_seq_length=512)"
   ]
  },
  {
   "cell_type": "code",
   "execution_count": 6,
   "metadata": {
    "collapsed": false
   },
   "outputs": [],
   "source": [
    "class Dataset(paddle.io.Dataset):\r\n",
    "    def __init__(self,data_path='data/data/',mode='train',data_num=50480,trans_fun=None,word_embeding_func=None,if_offline_to_id=False):\r\n",
    "        super(Dataset, self).__init__()\r\n",
    "        self.data=[]\r\n",
    "        self.mode=mode\r\n",
    "        self.trans_func=trans_fun\r\n",
    "        self.word_embedding_func=word_embeding_func\r\n",
    "        self.if_offline_to_id=if_offline_to_id\r\n",
    "        #定义转换函数，将文本语言转换为bert的token_id便于输入\r\n",
    "        self.label2int={'entailment':0,'contradiction':1,'neutral':2}\r\n",
    "        #读取数据\r\n",
    "        data_path=data_path+self.mode+'.json'\r\n",
    "        count={'entailment':0,'neutral':0,'contradiction':0}\r\n",
    "        with open(data_path,'r',encoding='utf-8') as f:\r\n",
    "            for line in tqdm(f.readlines()):\r\n",
    "                d=json.loads(line)\r\n",
    "                #保留在句子和label即可：\r\n",
    "                samp=dict()\r\n",
    "                samp['sentence1']=d['sentence1']\r\n",
    "                samp['sentence2']=d['sentence2']\r\n",
    "                label=self.label2int.get(d['label'],-1)\r\n",
    "                if label==-1:\r\n",
    "                    continue\r\n",
    "                samp['label']=label\r\n",
    "                if d['label']=='entailment' and count['entailment']<data_num:\r\n",
    "                    count['entailment']+=1\r\n",
    "                    self.data.append(samp)\r\n",
    "                elif d['label']=='neutral' and count['neutral']<data_num:\r\n",
    "                    count['neutral']+=1\r\n",
    "                    self.data.append(samp)\r\n",
    "                elif d['label']=='contradiction' and count['contradiction']<data_num: \r\n",
    "                    count['contradiction']+=1\r\n",
    "                    self.data.append(samp)\r\n",
    "        f.close()\r\n",
    "        print(count)\r\n",
    "    \r\n",
    "    def __getitem__(self,index,cut_embedding='cut'):\r\n",
    "        #更具具体需求返回分词与否、词嵌入与否的数据\r\n",
    "        if self.if_offline_to_id:\r\n",
    "            cut_embedding='no'\r\n",
    "        if cut_embedding == 'all':\r\n",
    "            sample=self.data[index]\r\n",
    "            #print(sample)\r\n",
    "            #分词去停词\r\n",
    "            sample_words=self.trans_func(sample)\r\n",
    "            #进行词嵌入\r\n",
    "            sample_embedding=dict()\r\n",
    "            sample_embedding['sentence1']=self.word_embedding_func(sample_words['sentence1'])\r\n",
    "            sample_embedding['sentence2']=self.word_embedding_func(sample_words['sentence2'])\r\n",
    "            if 'label' in sample.keys():\r\n",
    "                sample_embedding['label']=sample_words['label']\r\n",
    "            return sample_embedding\r\n",
    "        elif cut_embedding=='cut':\r\n",
    "            sample=self.data[index].copy()\r\n",
    "            #分词去停词，返回句子ID\r\n",
    "            sample_words=self.trans_func(sample)\r\n",
    "            return sample_words\r\n",
    "        else:#cut_embedding=='no'\r\n",
    "            sample=self.data[index]\r\n",
    "            return sample\r\n",
    "\r\n",
    "    def __len__(self):\r\n",
    "        return len(self.data)"
   ]
  },
  {
   "cell_type": "code",
   "execution_count": 7,
   "metadata": {
    "collapsed": false
   },
   "outputs": [
    {
     "name": "stderr",
     "output_type": "stream",
     "text": [
      "100%|██████████| 50486/50486 [00:00<00:00, 110765.97it/s]\n"
     ]
    },
    {
     "name": "stdout",
     "output_type": "stream",
     "text": [
      "{'entailment': 16000, 'neutral': 16000, 'contradiction': 16000}\n",
      "原始数据：\n",
      "{'sentence1': '一月份跟二月份肯定有一个月份有.', 'sentence2': '肯定有一个月份有', 'label': 0}\n",
      "分词、转换为token_id的对应数据：\n",
      "{'input_ids': [101, 671, 3299, 819, 6656, 753, 3299, 819, 5507, 2137, 3300, 671, 702, 3299, 819, 3300, 119, 102, 5507, 2137, 3300, 671, 702, 3299, 819, 3300, 102], 'token_type_ids': [0, 0, 0, 0, 0, 0, 0, 0, 0, 0, 0, 0, 0, 0, 0, 0, 0, 0, 1, 1, 1, 1, 1, 1, 1, 1, 1], 'label': array(0., dtype=float32)}\n",
      "48000\n"
     ]
    }
   ],
   "source": [
    "test_dataset=Dataset(data_path='data/',mode='train.50k',data_num=parameters.data_num,trans_fun=bert_transfunc)\r\n",
    "print('原始数据：')\r\n",
    "print(test_dataset.__getitem__(0,cut_embedding='no'))\r\n",
    "print('分词、转换为token_id的对应数据：')\r\n",
    "print(test_dataset.__getitem__(0,cut_embedding='cut'))\r\n",
    "print(test_dataset.__len__())"
   ]
  },
  {
   "cell_type": "markdown",
   "metadata": {
    "collapsed": false
   },
   "source": [
    "### 数据加载类构建"
   ]
  },
  {
   "cell_type": "code",
   "execution_count": 8,
   "metadata": {
    "collapsed": false
   },
   "outputs": [],
   "source": [
    "#构建数据加载器\r\n",
    "def create_dataloader(dataset, mode='train',batch_size=1,batchify_fn=None):\r\n",
    "    shuffle = True if mode == 'train' else False\r\n",
    "    if mode == 'train':\r\n",
    "        batch_sampler = paddle.io.DistributedBatchSampler(\r\n",
    "            dataset, batch_size=batch_size, shuffle=shuffle)\r\n",
    "    else:\r\n",
    "        batch_sampler = paddle.io.BatchSampler(\r\n",
    "            dataset, batch_size=batch_size, shuffle=shuffle)\r\n",
    "    return paddle.io.DataLoader(dataset=dataset,batch_sampler=batch_sampler,collate_fn=batchify_fn,return_list=True)\r\n",
    "\r\n",
    "#整合Batch的数据\r\n",
    "#需要根据是否使用Bert进行调整：非Bert返回token-id，Bert则需返回token-id\\token_type等为字典。\r\n",
    "def collate_func(batch_data,if_bert=False,max_length=512,tokenizer=None):\r\n",
    "    batch_size = len(batch_data)\r\n",
    "    # 如果batch_size为0，则返回一个空字典\r\n",
    "    if batch_size == 0:\r\n",
    "        return {}\r\n",
    "    sentence1_list,sentence2_list,label_list=[],[],[]\r\n",
    "    input_ids,token_type_ids=[],[]\r\n",
    "    #判断是否是预测数据\r\n",
    "    instance1=batch_data[1]\r\n",
    "    is_test=1\r\n",
    "    if 'label' in instance1.keys():\r\n",
    "        is_test=0\r\n",
    "    for instance in batch_data:\r\n",
    "        if if_bert:\r\n",
    "            token_type_id=instance['token_type_ids']\r\n",
    "            input_id=instance['input_ids']\r\n",
    "            input_ids.append(paddle.to_tensor(input_id, dtype=\"int64\"))\r\n",
    "            token_type_ids.append(paddle.to_tensor(token_type_id, dtype=\"int64\"))\r\n",
    "        else:\r\n",
    "            sentence1=instance[\"sentence1\"]\r\n",
    "            sentence2=instance[\"sentence2\"]\r\n",
    "            #由于是token-id因此返回的是int64形\r\n",
    "            sentence1_list.append(paddle.to_tensor(sentence1, dtype=\"int64\"))\r\n",
    "            sentence2_list.append(paddle.to_tensor(sentence2, dtype=\"int64\"))\r\n",
    "        if is_test==0:\r\n",
    "            label=instance['label']\r\n",
    "        if is_test==0:\r\n",
    "            label_list.append(label)\r\n",
    "    # 对一个batch内的数据，进行padding,padding的值为词表中的[pad]的Index:635964\r\n",
    "    if if_bert:\r\n",
    "        if is_test==0:\r\n",
    "            return {'input_ids':Pad(axis=0, pad_val=tokenizer.pad_token_id,pad_right=False)(input_ids),  # input_ids\r\n",
    "                'token_type_ids':Pad(axis=0, pad_val=tokenizer.pad_token_type_id,pad_right=False)(token_type_ids),\r\n",
    "                \"labels\":Stack(dtype=\"int64\")(label_list),\r\n",
    "                }\r\n",
    "        else:\r\n",
    "            return {'input_ids':Pad(axis=0, pad_val=tokenizer.pad_token_id,pad_right=False)(input_ids),\r\n",
    "                'token_type_ids':Pad(axis=0, pad_val=tokenizer.pad_token_type_id,pad_right=False)(token_type_ids),\r\n",
    "                }\r\n",
    "    else:\r\n",
    "        if is_test==0:\r\n",
    "            return {\"sentence1s\": Pad(pad_val=10218, axis=0,pad_right=False)(sentence1_list),\r\n",
    "                \"sentence2s\": Pad(pad_val=10218, axis=0,pad_right=False)(sentence2_list),\r\n",
    "                \"labels\": Stack(dtype=\"int64\")(label_list),\r\n",
    "                }\r\n",
    "        else:\r\n",
    "            return {\"sentence1s\": Pad(pad_val=10218, axis=0,pad_right=False)(sentence1_list),\r\n",
    "                \"sentence2s\": Pad(pad_val=10218, axis=0,pad_right=False)(sentence2_list),\r\n",
    "                }\r\n",
    "collate_function=partial(collate_func,if_bert=True,tokenizer=tokenizer_bert)"
   ]
  },
  {
   "cell_type": "code",
   "execution_count": 9,
   "metadata": {
    "collapsed": false
   },
   "outputs": [
    {
     "name": "stdout",
     "output_type": "stream",
     "text": [
      "375\n"
     ]
    }
   ],
   "source": [
    "#测试数据\r\n",
    "batch_size=parameters.batch_size\r\n",
    "test_data_loader = create_dataloader(test_dataset,mode='train',batch_size=128,batchify_fn=collate_func)\r\n",
    "print(test_dataset.__len__()//batch_size)"
   ]
  },
  {
   "cell_type": "markdown",
   "metadata": {
    "collapsed": false
   },
   "source": [
    "## 构建模型"
   ]
  },
  {
   "cell_type": "code",
   "execution_count": 10,
   "metadata": {
    "collapsed": false
   },
   "outputs": [],
   "source": [
    "class Classifer(nn.Layer):\r\n",
    "    def __init__(self,encoder=parameters.encder,embedding_dim=parameters.encoder_dim,\\\r\n",
    "                encoder_dim=parameters.encoder_dim,\\\r\n",
    "                class_dim=parameters.class_dim,\\\r\n",
    "                token_embedding=None,is_pre_embedding=False,mode='Bert',init_scale=0.1,is_embedding=False):\r\n",
    "        #参数分别的意义：编码器、词嵌入维度、编码维度、分类数目、是否进行词嵌入、词嵌入的词表、是否使用预训练词嵌入、编码器名称、词嵌入层初始化、词表大小\r\n",
    "        super(Classifer,self).__init__()\r\n",
    "        print('使用的编码器是：'+mode)\r\n",
    "        self.is_pre_embedding=is_pre_embedding\r\n",
    "        self.is_embedding=is_embedding\r\n",
    "        self.embedding_dim=embedding_dim\r\n",
    "        self.encoder_dim=encoder_dim\r\n",
    "        self.mode=mode\r\n",
    "        self.encoder=encoder\r\n",
    "        if self.is_pre_embedding and self.is_embedding:\r\n",
    "            #构建预训练的词嵌入层\r\n",
    "            print('使用预训练的词嵌入')\r\n",
    "            pretrained_attr = paddle.ParamAttr(\r\n",
    "                                   initializer=paddle.nn.initializer.Assign(token_embedding),\r\n",
    "                                   trainable=False)\r\n",
    "            self.embedding_layer=nn.Embedding(num_embeddings=token_embedding.shape[0],\r\n",
    "                                      embedding_dim=token_embedding.shape[1],\r\n",
    "                                      weight_attr=pretrained_attr)\r\n",
    "        elif self.is_embedding:\r\n",
    "            #使用非预训练的词嵌入层\r\n",
    "            print('使用非预训练的词嵌入，训练词嵌入层')\r\n",
    "            self.embedding_layer=nn.Embedding(num_embeddings=vocab_size, embedding_dim=self.embedding_dim, sparse=False, \r\n",
    "                                    weight_attr=paddle.ParamAttr(initializer=nn.initializer.Uniform(low=-init_scale, high=init_scale)))\r\n",
    "                                    \r\n",
    "        if self.mode!='Bert' and self.mode!=\"Ernie\":\r\n",
    "            self.fnn=nn.Sequential(nn.Linear(in_features=2*self.encoder_dim,out_features=400),nn.ReLU(),\\\r\n",
    "                    nn.Linear(in_features=400,out_features=class_dim))\r\n",
    "            print('使用普通的Embedding层')\r\n",
    "\r\n",
    "        else:\r\n",
    "            self.fnn=nn.Sequential(nn.Linear(in_features=self.encoder.config[\"hidden_size\"],out_features=400),nn.ReLU(),\\\r\n",
    "                    nn.Linear(in_features=400,out_features=class_dim))\r\n",
    "            print('使用Transformer-based model')\r\n",
    "        \r\n",
    "    def forward(self,input_data):\r\n",
    "        first_sentence_id,second_sentence_id=input_data[0],input_data[1]\r\n",
    "        #如果不是Bert,那么直接就是输入词向量或者token-id\r\n",
    "        #对于Bert编码器，两个sentence_id对应的是各自句子的Bert：input_id和token_type_id，需要进一步处理转换为Bert的输入，且使用Bert时，不需要embedding。\r\n",
    "        if self.is_embedding:\r\n",
    "            #进行词嵌入\r\n",
    "            first_sentence=self.embedding_layer(first_sentence_id)\r\n",
    "            second_sentence=self.embedding_layer(second_sentence_id)\r\n",
    "        else:\r\n",
    "            first_sentence=first_sentence_id\r\n",
    "            second_sentence=second_sentence_id\r\n",
    "        #计算编码\r\n",
    "        if self.mode=='Bert' or self.mode=='Ernie':\r\n",
    "            (sequence_output,cls)=self.encoder(input_ids=first_sentence,\\\r\n",
    "                                    token_type_ids=second_sentence)\r\n",
    "            #得到的CLS就可以用于文本分类\r\n",
    "            input_v=cls\r\n",
    "            out=self.fnn(input_v)\r\n",
    "            return out\r\n",
    "        \r\n",
    "        elif self.mode=='Transformer':\r\n",
    "            code1=self.encoder(first_sentence)\r\n",
    "            code2=self.encoder(second_sentence)\r\n",
    "            #合并向量：\r\n",
    "            input_v=paddle.concat(x=[code1,code2], axis=-1)\r\n",
    "            out=self.fnn(input_v)\r\n",
    "            return out\r\n",
    "        elif  self.mode=='LSTM_API':\r\n",
    "            seq_len1=paddle.to_tensor([first_sentence.shape[1] for i in range(first_sentence.shape[0])])\r\n",
    "            seq_len2=paddle.to_tensor([second_sentence.shape[1] for i in range(second_sentence.shape[0])])\r\n",
    "            code1=self.encoder(first_sentence,seq_len1)\r\n",
    "            code2=self.encoder(second_sentence,seq_len2)\r\n",
    "            #合并向量：\r\n",
    "            input_v=paddle.concat(x=[code1,code2], axis=-1)\r\n",
    "            out=self.fnn(input_v)\r\n",
    "            return out"
   ]
  },
  {
   "cell_type": "code",
   "execution_count": 11,
   "metadata": {
    "collapsed": false
   },
   "outputs": [],
   "source": [
    "def evaluate(model, criterion, metric, data_loader):\r\n",
    "    model.eval()\r\n",
    "    metric.reset()\r\n",
    "    losses = []\r\n",
    "    acces=[]\r\n",
    "    f1score=[]\r\n",
    "    mode=model.mode\r\n",
    "    for sample in data_loader:\r\n",
    "        if mode==\"Bert\" or mode=='Ernie':\r\n",
    "            sentence1=sample['input_ids']\r\n",
    "            sentence2=sample['token_type_ids']\r\n",
    "        else:\r\n",
    "            sentence1=sample['sentence1s']\r\n",
    "            sentence2=sample['sentence2s']\r\n",
    "        labels=sample['labels']\r\n",
    "        input_data=[sentence1,sentence2]\r\n",
    "        logits = model(input_data)\r\n",
    "        loss = criterion(logits, labels)\r\n",
    "        losses.append(loss.numpy())\r\n",
    "        logits = F.softmax(logits, axis=1)\r\n",
    "        correct = metric.compute(logits, labels)\r\n",
    "        #f1分数\r\n",
    "        y_pred=np.argmax(logits.numpy(),axis=-1)\r\n",
    "        y_ture=labels.numpy()\r\n",
    "        f1=f1_score(y_pred=y_pred,y_true=y_ture,average='macro')\r\n",
    "        f1score.append(f1)\r\n",
    "        metric.update(correct)\r\n",
    "        accu = metric.accumulate()\r\n",
    "    print(\"eval loss: %.5f, accu: %.5f,f1:%.5f\" % (np.mean(losses),accu,np.mean(f1score)))\r\n",
    "    model.train()\r\n",
    "    metric.reset()\r\n",
    "    #返回验证的损失和准确率便于数据展示\r\n",
    "    return (np.mean(losses), accu,np.mean(f1score))"
   ]
  },
  {
   "cell_type": "code",
   "execution_count": 12,
   "metadata": {
    "collapsed": false
   },
   "outputs": [],
   "source": [
    "def do_train( model, data_loader,  vali_data_loader, criterion,  optimizer,metric , scheduler=None  ):\r\n",
    "    #paddle.set_device('gpu:0')\r\n",
    "    model.train()\r\n",
    "    global_step = 0\r\n",
    "\r\n",
    "    tic_train = time.time()\r\n",
    "    num_train_epochs=parameters.max_epoch\r\n",
    "    log_steps=parameters.log_step\r\n",
    "    #log_steps=1\r\n",
    "    mode=model.mode#使用的编码器\r\n",
    "    eval_step=parameters.eval_step\r\n",
    "    #eval_step=20\r\n",
    "    best_acc=0.73\r\n",
    "    best_f1=0.74\r\n",
    "    train_loss,train_acc,train_f1,train_iters=[],[],[],[]\r\n",
    "    eval_loss,eval_acc,eval_iters,eval_f1=[],[],[],[]\r\n",
    "    for epoch in range(num_train_epochs):\r\n",
    "        for step,sample in enumerate(data_loader):\r\n",
    "            if mode==\"Bert\" or mode=='Ernie':\r\n",
    "                sentence1=sample['input_ids']\r\n",
    "                #print('inputid:',sentence1.shape)\r\n",
    "                sentence2=sample['token_type_ids']\r\n",
    "                #print('tokrn_type',sentence2)\r\n",
    "            else:\r\n",
    "                sentence1=sample['sentence1s']\r\n",
    "                sentence2=sample['sentence2s']\r\n",
    "            truelabels=sample['labels']\r\n",
    "            #print(truelabels)\r\n",
    "            #print(type(sentence1))\r\n",
    "            input_data=[sentence1,sentence2]\r\n",
    "            outputs = model(input_data)\r\n",
    "            #print(outputs.shape)\r\n",
    "            #计算损失\r\n",
    "            loss = criterion(outputs, truelabels)\r\n",
    "            #print(loss)\r\n",
    "            outputs = F.softmax(outputs, axis=1)\r\n",
    "            correct = metric.compute(outputs, truelabels)\r\n",
    "            metric.update(correct)\r\n",
    "            acc = metric.accumulate()\r\n",
    "            #f1分数\r\n",
    "            y_pred=np.argmax(outputs.numpy(),axis=-1)\r\n",
    "            y_ture=truelabels.numpy()\r\n",
    "            f1=f1_score(y_pred=y_pred,y_true=y_ture,average='macro')\r\n",
    "            #反向传播\r\n",
    "            loss.backward()\r\n",
    "            global_step += 1\r\n",
    "            # 每间隔 log_steps 输出训练指标\r\n",
    "            if global_step % log_steps == 0:\r\n",
    "                print(\"global step %d, epoch: %d, batch: %d, loss: %.5f, accuracy: %.5f,F1-score:%.5f, speed: %.2f step/s\"\r\n",
    "                % (global_step, epoch, step, loss, acc,f1,\r\n",
    "                    log_steps / (time.time() - tic_train)))\r\n",
    "                train_iters.append(global_step)\r\n",
    "                train_acc.append(acc)\r\n",
    "                train_f1.append(f1)\r\n",
    "                train_loss.append(loss.numpy())\r\n",
    "            if global_step%eval_step==0 :\r\n",
    "                evalloss,evalacc,evalf1=evaluate(model, criterion, metric, vali_data_loader)\r\n",
    "                eval_acc.append(evalacc)\r\n",
    "                eval_loss.append(evalloss)\r\n",
    "                eval_f1.append(evalf1)\r\n",
    "                eval_iters.append(global_step)\r\n",
    "                if evalf1>best_f1 and evalacc>best_acc:\r\n",
    "                    save_path='bert'+str(evalf1)+'.pdparams'\r\n",
    "                    paddle.save(model.state_dict(),save_path)\r\n",
    "                    best_acc=evalacc\r\n",
    "                    best_f1=evalf1\r\n",
    "                    print(evalf1,evalacc)\r\n",
    "            #优化器迭代一步\r\n",
    "            optimizer.step()\r\n",
    "            optimizer.clear_grad()\r\n",
    "            if scheduler:\r\n",
    "                scheduler.step()\r\n",
    "        metric.reset()\r\n",
    "    #save_path=parameters.data_savepath+parameters.encder+'fc_finall.pdparams'\r\n",
    "    #paddle.save(model.state_dict(),save_path)\r\n",
    "    return (train_loss,train_acc,train_f1,train_iters),(eval_loss,eval_acc,eval_f1,eval_iters)"
   ]
  },
  {
   "cell_type": "markdown",
   "metadata": {
    "collapsed": false
   },
   "source": [
    "### 定义模型并进行训练"
   ]
  },
  {
   "cell_type": "markdown",
   "metadata": {
    "collapsed": false
   },
   "source": [
    "#### 加载数据集"
   ]
  },
  {
   "cell_type": "code",
   "execution_count": 13,
   "metadata": {
    "collapsed": false
   },
   "outputs": [
    {
     "name": "stderr",
     "output_type": "stream",
     "text": [
      "100%|██████████| 50486/50486 [00:00<00:00, 141826.98it/s]\n"
     ]
    },
    {
     "name": "stdout",
     "output_type": "stream",
     "text": [
      "{'entailment': 16000, 'neutral': 16000, 'contradiction': 16000}\n",
      "{'entailment': 947, 'neutral': 1103, 'contradiction': 900}\n",
      "训练集大小： 48000\n",
      "验证集大小： 2950\n",
      "Batch_size: 128\n",
      "训练一轮步数： 375\n",
      "187\n",
      "561\n"
     ]
    },
    {
     "name": "stderr",
     "output_type": "stream",
     "text": [
      "100%|██████████| 3000/3000 [00:00<00:00, 144805.94it/s]\n"
     ]
    }
   ],
   "source": [
    "train_ds=Dataset(data_path='data/',mode='train.50k',trans_fun=bert_transfunc,data_num=parameters.data_num)\r\n",
    "eval_ds=Dataset(data_path='data/',mode='dev',trans_fun=bert_transfunc)\r\n",
    "print('训练集大小：',train_ds.__len__())\r\n",
    "print('验证集大小：',eval_ds.__len__())\r\n",
    "#print('测试集大小：',test_ds.__len__())\r\n",
    "train_data_loader = create_dataloader(train_ds,mode='train',batch_size=parameters.batch_size,batchify_fn=collate_function)\r\n",
    "eval_data_loader = create_dataloader(eval_ds,mode='dev',batch_size=parameters.batch_size,batchify_fn=collate_function)\r\n",
    "#test_data_loader = create_dataloader(test_ds,mode='test',batch_size=batch_size,batchify_fn=collate_fun)\r\n",
    "print('Batch_size:',parameters.batch_size)\r\n",
    "print('训练一轮步数：',train_ds.__len__()//parameters.batch_size)\r\n",
    "parameters.log_step=int(train_ds.__len__()//parameters.batch_size//2)\r\n",
    "parameters.eval_step=parameters.log_step*3\r\n",
    "print(parameters.log_step)\r\n",
    "print(parameters.eval_step)"
   ]
  },
  {
   "cell_type": "markdown",
   "metadata": {
    "collapsed": false
   },
   "source": [
    "#### 定义模型"
   ]
  },
  {
   "cell_type": "code",
   "execution_count": 14,
   "metadata": {
    "collapsed": false
   },
   "outputs": [
    {
     "name": "stdout",
     "output_type": "stream",
     "text": [
      "使用的编码器是：Bert\n",
      "使用Transformer-based model\n",
      "--------------------------------------------------------------------------------------------------------------------------------\n",
      "       Layer (type)                               Input Shape                              Output Shape            Param #    \n",
      "================================================================================================================================\n",
      "       Embedding-1                                 [[64, 5]]                               [64, 5, 768]          16,226,304   \n",
      "       Embedding-2                                 [[64, 5]]                               [64, 5, 768]            393,216    \n",
      "       Embedding-3                                 [[64, 5]]                               [64, 5, 768]             1,536     \n",
      "       LayerNorm-1                              [[64, 5, 768]]                             [64, 5, 768]             1,536     \n",
      "        Dropout-1                               [[64, 5, 768]]                             [64, 5, 768]               0       \n",
      "     BertEmbeddings-1                                 []                                   [64, 5, 768]               0       \n",
      "         Linear-1                               [[64, 5, 768]]                             [64, 5, 768]            590,592    \n",
      "         Linear-2                               [[64, 5, 768]]                             [64, 5, 768]            590,592    \n",
      "         Linear-3                               [[64, 5, 768]]                             [64, 5, 768]            590,592    \n",
      "         Linear-4                               [[64, 5, 768]]                             [64, 5, 768]            590,592    \n",
      "   MultiHeadAttention-1    [[64, 5, 768], [64, 5, 768], [64, 5, 768], [64, 1, 1, 5]]       [64, 5, 768]               0       \n",
      "        Dropout-3                               [[64, 5, 768]]                             [64, 5, 768]               0       \n",
      "       LayerNorm-2                              [[64, 5, 768]]                             [64, 5, 768]             1,536     \n",
      "         Linear-5                               [[64, 5, 768]]                             [64, 5, 3072]          2,362,368   \n",
      "        Dropout-2                               [[64, 5, 3072]]                            [64, 5, 3072]              0       \n",
      "         Linear-6                               [[64, 5, 3072]]                            [64, 5, 768]           2,360,064   \n",
      "        Dropout-4                               [[64, 5, 768]]                             [64, 5, 768]               0       \n",
      "       LayerNorm-3                              [[64, 5, 768]]                             [64, 5, 768]             1,536     \n",
      "TransformerEncoderLayer-1                       [[64, 5, 768]]                             [64, 5, 768]               0       \n",
      "         Linear-7                               [[64, 5, 768]]                             [64, 5, 768]            590,592    \n",
      "         Linear-8                               [[64, 5, 768]]                             [64, 5, 768]            590,592    \n",
      "         Linear-9                               [[64, 5, 768]]                             [64, 5, 768]            590,592    \n",
      "        Linear-10                               [[64, 5, 768]]                             [64, 5, 768]            590,592    \n",
      "   MultiHeadAttention-2    [[64, 5, 768], [64, 5, 768], [64, 5, 768], [64, 1, 1, 5]]       [64, 5, 768]               0       \n",
      "        Dropout-6                               [[64, 5, 768]]                             [64, 5, 768]               0       \n",
      "       LayerNorm-4                              [[64, 5, 768]]                             [64, 5, 768]             1,536     \n",
      "        Linear-11                               [[64, 5, 768]]                             [64, 5, 3072]          2,362,368   \n",
      "        Dropout-5                               [[64, 5, 3072]]                            [64, 5, 3072]              0       \n",
      "        Linear-12                               [[64, 5, 3072]]                            [64, 5, 768]           2,360,064   \n",
      "        Dropout-7                               [[64, 5, 768]]                             [64, 5, 768]               0       \n",
      "       LayerNorm-5                              [[64, 5, 768]]                             [64, 5, 768]             1,536     \n",
      "TransformerEncoderLayer-2                       [[64, 5, 768]]                             [64, 5, 768]               0       \n",
      "        Linear-13                               [[64, 5, 768]]                             [64, 5, 768]            590,592    \n",
      "        Linear-14                               [[64, 5, 768]]                             [64, 5, 768]            590,592    \n",
      "        Linear-15                               [[64, 5, 768]]                             [64, 5, 768]            590,592    \n",
      "        Linear-16                               [[64, 5, 768]]                             [64, 5, 768]            590,592    \n",
      "   MultiHeadAttention-3    [[64, 5, 768], [64, 5, 768], [64, 5, 768], [64, 1, 1, 5]]       [64, 5, 768]               0       \n",
      "        Dropout-9                               [[64, 5, 768]]                             [64, 5, 768]               0       \n",
      "       LayerNorm-6                              [[64, 5, 768]]                             [64, 5, 768]             1,536     \n",
      "        Linear-17                               [[64, 5, 768]]                             [64, 5, 3072]          2,362,368   \n",
      "        Dropout-8                               [[64, 5, 3072]]                            [64, 5, 3072]              0       \n",
      "        Linear-18                               [[64, 5, 3072]]                            [64, 5, 768]           2,360,064   \n",
      "        Dropout-10                              [[64, 5, 768]]                             [64, 5, 768]               0       \n",
      "       LayerNorm-7                              [[64, 5, 768]]                             [64, 5, 768]             1,536     \n",
      "TransformerEncoderLayer-3                       [[64, 5, 768]]                             [64, 5, 768]               0       \n",
      "        Linear-19                               [[64, 5, 768]]                             [64, 5, 768]            590,592    \n",
      "        Linear-20                               [[64, 5, 768]]                             [64, 5, 768]            590,592    \n",
      "        Linear-21                               [[64, 5, 768]]                             [64, 5, 768]            590,592    \n",
      "        Linear-22                               [[64, 5, 768]]                             [64, 5, 768]            590,592    \n",
      "   MultiHeadAttention-4    [[64, 5, 768], [64, 5, 768], [64, 5, 768], [64, 1, 1, 5]]       [64, 5, 768]               0       \n",
      "        Dropout-12                              [[64, 5, 768]]                             [64, 5, 768]               0       \n",
      "       LayerNorm-8                              [[64, 5, 768]]                             [64, 5, 768]             1,536     \n",
      "        Linear-23                               [[64, 5, 768]]                             [64, 5, 3072]          2,362,368   \n",
      "        Dropout-11                              [[64, 5, 3072]]                            [64, 5, 3072]              0       \n",
      "        Linear-24                               [[64, 5, 3072]]                            [64, 5, 768]           2,360,064   \n",
      "        Dropout-13                              [[64, 5, 768]]                             [64, 5, 768]               0       \n",
      "       LayerNorm-9                              [[64, 5, 768]]                             [64, 5, 768]             1,536     \n",
      "TransformerEncoderLayer-4                       [[64, 5, 768]]                             [64, 5, 768]               0       \n",
      "        Linear-25                               [[64, 5, 768]]                             [64, 5, 768]            590,592    \n",
      "        Linear-26                               [[64, 5, 768]]                             [64, 5, 768]            590,592    \n",
      "        Linear-27                               [[64, 5, 768]]                             [64, 5, 768]            590,592    \n",
      "        Linear-28                               [[64, 5, 768]]                             [64, 5, 768]            590,592    \n",
      "   MultiHeadAttention-5    [[64, 5, 768], [64, 5, 768], [64, 5, 768], [64, 1, 1, 5]]       [64, 5, 768]               0       \n",
      "        Dropout-15                              [[64, 5, 768]]                             [64, 5, 768]               0       \n",
      "       LayerNorm-10                             [[64, 5, 768]]                             [64, 5, 768]             1,536     \n",
      "        Linear-29                               [[64, 5, 768]]                             [64, 5, 3072]          2,362,368   \n",
      "        Dropout-14                              [[64, 5, 3072]]                            [64, 5, 3072]              0       \n",
      "        Linear-30                               [[64, 5, 3072]]                            [64, 5, 768]           2,360,064   \n",
      "        Dropout-16                              [[64, 5, 768]]                             [64, 5, 768]               0       \n",
      "       LayerNorm-11                             [[64, 5, 768]]                             [64, 5, 768]             1,536     \n",
      "TransformerEncoderLayer-5                       [[64, 5, 768]]                             [64, 5, 768]               0       \n",
      "        Linear-31                               [[64, 5, 768]]                             [64, 5, 768]            590,592    \n",
      "        Linear-32                               [[64, 5, 768]]                             [64, 5, 768]            590,592    \n",
      "        Linear-33                               [[64, 5, 768]]                             [64, 5, 768]            590,592    \n",
      "        Linear-34                               [[64, 5, 768]]                             [64, 5, 768]            590,592    \n",
      "   MultiHeadAttention-6    [[64, 5, 768], [64, 5, 768], [64, 5, 768], [64, 1, 1, 5]]       [64, 5, 768]               0       \n",
      "        Dropout-18                              [[64, 5, 768]]                             [64, 5, 768]               0       \n",
      "       LayerNorm-12                             [[64, 5, 768]]                             [64, 5, 768]             1,536     \n",
      "        Linear-35                               [[64, 5, 768]]                             [64, 5, 3072]          2,362,368   \n",
      "        Dropout-17                              [[64, 5, 3072]]                            [64, 5, 3072]              0       \n",
      "        Linear-36                               [[64, 5, 3072]]                            [64, 5, 768]           2,360,064   \n",
      "        Dropout-19                              [[64, 5, 768]]                             [64, 5, 768]               0       \n",
      "       LayerNorm-13                             [[64, 5, 768]]                             [64, 5, 768]             1,536     \n",
      "TransformerEncoderLayer-6                       [[64, 5, 768]]                             [64, 5, 768]               0       \n",
      "        Linear-37                               [[64, 5, 768]]                             [64, 5, 768]            590,592    \n",
      "        Linear-38                               [[64, 5, 768]]                             [64, 5, 768]            590,592    \n",
      "        Linear-39                               [[64, 5, 768]]                             [64, 5, 768]            590,592    \n",
      "        Linear-40                               [[64, 5, 768]]                             [64, 5, 768]            590,592    \n",
      "   MultiHeadAttention-7    [[64, 5, 768], [64, 5, 768], [64, 5, 768], [64, 1, 1, 5]]       [64, 5, 768]               0       \n",
      "        Dropout-21                              [[64, 5, 768]]                             [64, 5, 768]               0       \n",
      "       LayerNorm-14                             [[64, 5, 768]]                             [64, 5, 768]             1,536     \n",
      "        Linear-41                               [[64, 5, 768]]                             [64, 5, 3072]          2,362,368   \n",
      "        Dropout-20                              [[64, 5, 3072]]                            [64, 5, 3072]              0       \n",
      "        Linear-42                               [[64, 5, 3072]]                            [64, 5, 768]           2,360,064   \n",
      "        Dropout-22                              [[64, 5, 768]]                             [64, 5, 768]               0       \n",
      "       LayerNorm-15                             [[64, 5, 768]]                             [64, 5, 768]             1,536     \n",
      "TransformerEncoderLayer-7                       [[64, 5, 768]]                             [64, 5, 768]               0       \n",
      "        Linear-43                               [[64, 5, 768]]                             [64, 5, 768]            590,592    \n",
      "        Linear-44                               [[64, 5, 768]]                             [64, 5, 768]            590,592    \n",
      "        Linear-45                               [[64, 5, 768]]                             [64, 5, 768]            590,592    \n",
      "        Linear-46                               [[64, 5, 768]]                             [64, 5, 768]            590,592    \n",
      "   MultiHeadAttention-8    [[64, 5, 768], [64, 5, 768], [64, 5, 768], [64, 1, 1, 5]]       [64, 5, 768]               0       \n",
      "        Dropout-24                              [[64, 5, 768]]                             [64, 5, 768]               0       \n",
      "       LayerNorm-16                             [[64, 5, 768]]                             [64, 5, 768]             1,536     \n",
      "        Linear-47                               [[64, 5, 768]]                             [64, 5, 3072]          2,362,368   \n",
      "        Dropout-23                              [[64, 5, 3072]]                            [64, 5, 3072]              0       \n",
      "        Linear-48                               [[64, 5, 3072]]                            [64, 5, 768]           2,360,064   \n",
      "        Dropout-25                              [[64, 5, 768]]                             [64, 5, 768]               0       \n",
      "       LayerNorm-17                             [[64, 5, 768]]                             [64, 5, 768]             1,536     \n",
      "TransformerEncoderLayer-8                       [[64, 5, 768]]                             [64, 5, 768]               0       \n",
      "        Linear-49                               [[64, 5, 768]]                             [64, 5, 768]            590,592    \n",
      "        Linear-50                               [[64, 5, 768]]                             [64, 5, 768]            590,592    \n",
      "        Linear-51                               [[64, 5, 768]]                             [64, 5, 768]            590,592    \n",
      "        Linear-52                               [[64, 5, 768]]                             [64, 5, 768]            590,592    \n",
      "   MultiHeadAttention-9    [[64, 5, 768], [64, 5, 768], [64, 5, 768], [64, 1, 1, 5]]       [64, 5, 768]               0       \n",
      "        Dropout-27                              [[64, 5, 768]]                             [64, 5, 768]               0       \n",
      "       LayerNorm-18                             [[64, 5, 768]]                             [64, 5, 768]             1,536     \n",
      "        Linear-53                               [[64, 5, 768]]                             [64, 5, 3072]          2,362,368   \n",
      "        Dropout-26                              [[64, 5, 3072]]                            [64, 5, 3072]              0       \n",
      "        Linear-54                               [[64, 5, 3072]]                            [64, 5, 768]           2,360,064   \n",
      "        Dropout-28                              [[64, 5, 768]]                             [64, 5, 768]               0       \n",
      "       LayerNorm-19                             [[64, 5, 768]]                             [64, 5, 768]             1,536     \n",
      "TransformerEncoderLayer-9                       [[64, 5, 768]]                             [64, 5, 768]               0       \n",
      "        Linear-55                               [[64, 5, 768]]                             [64, 5, 768]            590,592    \n",
      "        Linear-56                               [[64, 5, 768]]                             [64, 5, 768]            590,592    \n",
      "        Linear-57                               [[64, 5, 768]]                             [64, 5, 768]            590,592    \n",
      "        Linear-58                               [[64, 5, 768]]                             [64, 5, 768]            590,592    \n",
      "  MultiHeadAttention-10    [[64, 5, 768], [64, 5, 768], [64, 5, 768], [64, 1, 1, 5]]       [64, 5, 768]               0       \n",
      "        Dropout-30                              [[64, 5, 768]]                             [64, 5, 768]               0       \n",
      "       LayerNorm-20                             [[64, 5, 768]]                             [64, 5, 768]             1,536     \n",
      "        Linear-59                               [[64, 5, 768]]                             [64, 5, 3072]          2,362,368   \n",
      "        Dropout-29                              [[64, 5, 3072]]                            [64, 5, 3072]              0       \n",
      "        Linear-60                               [[64, 5, 3072]]                            [64, 5, 768]           2,360,064   \n",
      "        Dropout-31                              [[64, 5, 768]]                             [64, 5, 768]               0       \n",
      "       LayerNorm-21                             [[64, 5, 768]]                             [64, 5, 768]             1,536     \n",
      "TransformerEncoderLayer-10                      [[64, 5, 768]]                             [64, 5, 768]               0       \n",
      "        Linear-61                               [[64, 5, 768]]                             [64, 5, 768]            590,592    \n",
      "        Linear-62                               [[64, 5, 768]]                             [64, 5, 768]            590,592    \n",
      "        Linear-63                               [[64, 5, 768]]                             [64, 5, 768]            590,592    \n",
      "        Linear-64                               [[64, 5, 768]]                             [64, 5, 768]            590,592    \n",
      "  MultiHeadAttention-11    [[64, 5, 768], [64, 5, 768], [64, 5, 768], [64, 1, 1, 5]]       [64, 5, 768]               0       \n",
      "        Dropout-33                              [[64, 5, 768]]                             [64, 5, 768]               0       \n",
      "       LayerNorm-22                             [[64, 5, 768]]                             [64, 5, 768]             1,536     \n",
      "        Linear-65                               [[64, 5, 768]]                             [64, 5, 3072]          2,362,368   \n",
      "        Dropout-32                              [[64, 5, 3072]]                            [64, 5, 3072]              0       \n",
      "        Linear-66                               [[64, 5, 3072]]                            [64, 5, 768]           2,360,064   \n",
      "        Dropout-34                              [[64, 5, 768]]                             [64, 5, 768]               0       \n",
      "       LayerNorm-23                             [[64, 5, 768]]                             [64, 5, 768]             1,536     \n",
      "TransformerEncoderLayer-11                      [[64, 5, 768]]                             [64, 5, 768]               0       \n",
      "        Linear-67                               [[64, 5, 768]]                             [64, 5, 768]            590,592    \n",
      "        Linear-68                               [[64, 5, 768]]                             [64, 5, 768]            590,592    \n",
      "        Linear-69                               [[64, 5, 768]]                             [64, 5, 768]            590,592    \n",
      "        Linear-70                               [[64, 5, 768]]                             [64, 5, 768]            590,592    \n",
      "  MultiHeadAttention-12    [[64, 5, 768], [64, 5, 768], [64, 5, 768], [64, 1, 1, 5]]       [64, 5, 768]               0       \n",
      "        Dropout-36                              [[64, 5, 768]]                             [64, 5, 768]               0       \n",
      "       LayerNorm-24                             [[64, 5, 768]]                             [64, 5, 768]             1,536     \n",
      "        Linear-71                               [[64, 5, 768]]                             [64, 5, 3072]          2,362,368   \n",
      "        Dropout-35                              [[64, 5, 3072]]                            [64, 5, 3072]              0       \n",
      "        Linear-72                               [[64, 5, 3072]]                            [64, 5, 768]           2,360,064   \n",
      "        Dropout-37                              [[64, 5, 768]]                             [64, 5, 768]               0       \n",
      "       LayerNorm-25                             [[64, 5, 768]]                             [64, 5, 768]             1,536     \n",
      "TransformerEncoderLayer-12                      [[64, 5, 768]]                             [64, 5, 768]               0       \n",
      "   TransformerEncoder-1                  [[64, 5, 768], [64, 1, 1, 5]]                     [64, 5, 768]               0       \n",
      "        Linear-73                                 [[64, 768]]                                [64, 768]             590,592    \n",
      "          Tanh-2                                  [[64, 768]]                                [64, 768]                0       \n",
      "       BertPooler-1                             [[64, 5, 768]]                               [64, 768]                0       \n",
      "       BertModel-1                                    []                             [[64, 5, 768], [64, 768]]        0       \n",
      "        Linear-74                                 [[64, 768]]                                [64, 400]             307,600    \n",
      "          ReLU-1                                  [[64, 400]]                                [64, 400]                0       \n",
      "        Linear-75                                 [[64, 400]]                                 [64, 3]               1,203     \n",
      "================================================================================================================================\n",
      "Total params: 102,576,451\n",
      "Trainable params: 102,576,451\n",
      "Non-trainable params: 0\n",
      "--------------------------------------------------------------------------------------------------------------------------------\n",
      "Input size (MB): 0.00\n",
      "Forward/backward pass size (MB): 444.39\n",
      "Params size (MB): 391.30\n",
      "Estimated Total Size (MB): 835.69\n",
      "--------------------------------------------------------------------------------------------------------------------------------\n",
      "\n",
      "{'total_params': 102576451, 'trainable_params': 102576451}\n"
     ]
    }
   ],
   "source": [
    "model=Classifer(encoder=bert_encode,is_embedding=False,mode='Bert')\r\n",
    "#pre_trained_dict=paddle.load('data/data143410/Bert0.5676.pdparams')\r\n",
    "#model.set_state_dict(pre_trained_dict)\r\n",
    "#打印网络查看网络结构\r\n",
    "params_info = paddle.summary(model, (2, 64,5),dtypes='int64')\r\n",
    "print(params_info)"
   ]
  },
  {
   "cell_type": "markdown",
   "metadata": {
    "collapsed": false
   },
   "source": [
    "#### 定义优化器和学习准则"
   ]
  },
  {
   "cell_type": "code",
   "execution_count": 15,
   "metadata": {
    "collapsed": false
   },
   "outputs": [
    {
     "name": "stdout",
     "output_type": "stream",
     "text": [
      "5e-05\n"
     ]
    }
   ],
   "source": [
    "\r\n",
    "#定义损失函数：交叉熵损失\r\n",
    "criterion=nn.loss.CrossEntropyLoss()\r\n",
    "#定义优化器\r\n",
    "from paddlenlp.transformers import LinearDecayWithWarmup\r\n",
    "num_training_steps = len(train_data_loader) *parameters.max_epoch\r\n",
    "lr_scheduler = LinearDecayWithWarmup(parameters.lr, num_training_steps, 0.0)\r\n",
    "decay_params = [\r\n",
    "    p.name for n, p in model.named_parameters()\r\n",
    "    if not any(nd in n for nd in [\"bias\", \"norm\"])\r\n",
    "]\r\n",
    "\r\n",
    "# 定义 Optimizer\r\n",
    "optimizer = paddle.optimizer.AdamW(\r\n",
    "    learning_rate=lr_scheduler,\r\n",
    "    parameters=model.parameters(),\r\n",
    "    weight_decay=parameters.weight_decay,\r\n",
    "    apply_decay_param_fun=lambda x: x in decay_params)\r\n",
    "print(parameters.lr)\r\n",
    "#定义评估标准：准且率、二分了可以使用F1分数\r\n",
    "acc_metric=paddle.metric.Accuracy()\r\n",
    "from sklearn.metrics import f1_score"
   ]
  },
  {
   "cell_type": "code",
   "execution_count": 16,
   "metadata": {
    "collapsed": false
   },
   "outputs": [
    {
     "name": "stdout",
     "output_type": "stream",
     "text": [
      "global step 187, epoch: 0, batch: 186, loss: 0.69610, accuracy: 0.60716,F1-score:0.69497, speed: 2.04 step/s\n",
      "global step 374, epoch: 0, batch: 373, loss: 0.62923, accuracy: 0.65615,F1-score:0.72773, speed: 1.01 step/s\n",
      "global step 561, epoch: 1, batch: 185, loss: 0.53617, accuracy: 0.77067,F1-score:0.81283, speed: 0.67 step/s\n",
      "eval loss: 0.62233, accu: 0.72915,f1:0.73287\n",
      "global step 748, epoch: 1, batch: 372, loss: 0.57103, accuracy: 0.76617,F1-score:0.73548, speed: 0.50 step/s\n",
      "global step 935, epoch: 2, batch: 184, loss: 0.45249, accuracy: 0.84388,F1-score:0.81152, speed: 0.40 step/s\n",
      "global step 1122, epoch: 2, batch: 371, loss: 0.50343, accuracy: 0.84091,F1-score:0.79596, speed: 0.33 step/s\n",
      "eval loss: 0.69763, accu: 0.74508,f1:0.74821\n",
      "0.7482050784243032 0.7450847457627119\n",
      "global step 1309, epoch: 3, batch: 183, loss: 0.24971, accuracy: 0.89687,F1-score:0.90639, speed: 0.28 step/s\n",
      "global step 1496, epoch: 3, batch: 370, loss: 0.28068, accuracy: 0.89410,F1-score:0.89046, speed: 0.25 step/s\n",
      "global step 1683, epoch: 4, batch: 182, loss: 0.20784, accuracy: 0.93759,F1-score:0.92362, speed: 0.22 step/s\n",
      "eval loss: 0.83922, accu: 0.73966,f1:0.74981\n",
      "global step 1870, epoch: 4, batch: 369, loss: 0.20361, accuracy: 0.92288,F1-score:0.90675, speed: 0.20 step/s\n",
      "global step 2057, epoch: 5, batch: 181, loss: 0.16374, accuracy: 0.95480,F1-score:0.92999, speed: 0.18 step/s\n",
      "global step 2244, epoch: 5, batch: 368, loss: 0.15988, accuracy: 0.95272,F1-score:0.93628, speed: 0.16 step/s\n",
      "eval loss: 1.04137, accu: 0.73525,f1:0.73877\n",
      "global step 2431, epoch: 6, batch: 180, loss: 0.13292, accuracy: 0.96914,F1-score:0.97720, speed: 0.15 step/s\n",
      "global step 2618, epoch: 6, batch: 367, loss: 0.09046, accuracy: 0.96820,F1-score:0.97616, speed: 0.14 step/s\n",
      "global step 2805, epoch: 7, batch: 179, loss: 0.01978, accuracy: 0.97765,F1-score:0.99267, speed: 0.13 step/s\n",
      "eval loss: 1.23686, accu: 0.73831,f1:0.74814\n",
      "global step 2992, epoch: 7, batch: 366, loss: 0.09476, accuracy: 0.97677,F1-score:0.96747, speed: 0.12 step/s\n",
      "global step 3179, epoch: 8, batch: 178, loss: 0.04136, accuracy: 0.98219,F1-score:0.98272, speed: 0.12 step/s\n",
      "global step 3366, epoch: 8, batch: 365, loss: 0.05721, accuracy: 0.98254,F1-score:0.97610, speed: 0.11 step/s\n",
      "eval loss: 1.31928, accu: 0.73220,f1:0.73582\n",
      "global step 3553, epoch: 9, batch: 177, loss: 0.01602, accuracy: 0.98727,F1-score:0.99195, speed: 0.10 step/s\n",
      "global step 3740, epoch: 9, batch: 364, loss: 0.07517, accuracy: 0.98724,F1-score:0.98396, speed: 0.10 step/s\n",
      "global step 3927, epoch: 10, batch: 176, loss: 0.05071, accuracy: 0.99091,F1-score:0.98353, speed: 0.09 step/s\n",
      "eval loss: 1.40698, accu: 0.73797,f1:0.74136\n",
      "global step 4114, epoch: 10, batch: 363, loss: 0.03277, accuracy: 0.99031,F1-score:0.97668, speed: 0.09 step/s\n",
      "global step 4301, epoch: 11, batch: 175, loss: 0.01681, accuracy: 0.99316,F1-score:0.99187, speed: 0.09 step/s\n",
      "global step 4488, epoch: 11, batch: 362, loss: 0.02662, accuracy: 0.99273,F1-score:0.99232, speed: 0.08 step/s\n",
      "eval loss: 1.44806, accu: 0.73288,f1:0.74313\n",
      "global step 4675, epoch: 12, batch: 174, loss: 0.02225, accuracy: 0.99446,F1-score:0.99264, speed: 0.08 step/s\n",
      "global step 4862, epoch: 12, batch: 361, loss: 0.05871, accuracy: 0.99430,F1-score:0.97589, speed: 0.08 step/s\n",
      "global step 5049, epoch: 13, batch: 173, loss: 0.00238, accuracy: 0.99636,F1-score:1.00000, speed: 0.07 step/s\n",
      "eval loss: 1.60088, accu: 0.73254,f1:0.74278\n",
      "global step 5236, epoch: 13, batch: 360, loss: 0.00234, accuracy: 0.99662,F1-score:1.00000, speed: 0.07 step/s\n",
      "global step 5423, epoch: 14, batch: 172, loss: 0.00111, accuracy: 0.99675,F1-score:1.00000, speed: 0.07 step/s\n",
      "global step 5610, epoch: 14, batch: 359, loss: 0.03419, accuracy: 0.99683,F1-score:0.98512, speed: 0.07 step/s\n",
      "eval loss: 1.60552, accu: 0.73661,f1:0.74655\n",
      "训练使用了：2874.28092\n"
     ]
    }
   ],
   "source": [
    "start=time.perf_counter()\r\n",
    "paddle.set_device('gpu:0')\r\n",
    "train_data,eval_data=do_train(model,train_data_loader,eval_data_loader,criterion,optimizer,acc_metric,lr_scheduler)\r\n",
    "#train_data,eval_data=do_train(model,train_data_loader,eval_data_loader,criterion,optimizer,acc_metric)\r\n",
    "end=time.perf_counter()\r\n",
    "use_time=end-start\r\n",
    "print('训练使用了：{:.5f}'.format(use_time))"
   ]
  },
  {
   "cell_type": "code",
   "execution_count": 17,
   "metadata": {
    "collapsed": false
   },
   "outputs": [
    {
     "name": "stdout",
     "output_type": "stream",
     "text": [
      "训练集最佳准确率：0.9968\n",
      "验证集最佳准确率：0.7451\n",
      "训练集最佳F1分数：1.0000\n",
      "验证集最佳F1分数：0.7498\n"
     ]
    }
   ],
   "source": [
    "print('训练集最佳准确率：{:.4f}'.format(np.max(train_data[1])))\r\n",
    "print('验证集最佳准确率：{:.4f}'.format(np.max(eval_data[1])))\r\n",
    "print('训练集最佳F1分数：{:.4f}'.format(np.max(train_data[2])))\r\n",
    "print('验证集最佳F1分数：{:.4f}'.format(np.max(eval_data[2])))"
   ]
  },
  {
   "cell_type": "code",
   "execution_count": 18,
   "metadata": {
    "collapsed": false
   },
   "outputs": [],
   "source": [
    "save_path=parameters.encder+'finall.pdparams'\r\n",
    "paddle.save(model.state_dict(),save_path)"
   ]
  },
  {
   "cell_type": "code",
   "execution_count": 19,
   "metadata": {
    "collapsed": false
   },
   "outputs": [
    {
     "data": {
      "text/plain": [
       "\"np.save(parameters.data_savepath+parameters.encder+'train_loss.npy',train_data[0])\\nnp.save(parameters.data_savepath+parameters.encder+'trainb _acc.npy',train_data[1])\\nnp.save(parameters.data_savepath+parameters.encder+'train_f1.npy',train_data[2]) \\nnp.save(parameters.data_savepath+parameters.encder+'train_iter.npy',train_data[3])\\n\\nnp.save(parameters.data_savepath+parameters.encder+'eval_loss.npy',eval_data[0])\\nnp.save(parameters.data_savepath+parameters.encder+'eval_acc.npy',eval_data[1])\\nnp.save(parameters.data_savepath+parameters.encder+'eval_f1.npy',eval_data[2])\\nnp.save(parameters.data_savepath+parameters.encder+'eval_iter.npy',eval_data[3])\""
      ]
     },
     "execution_count": 19,
     "metadata": {},
     "output_type": "execute_result"
    }
   ],
   "source": [
    "'''np.save(parameters.data_savepath+parameters.encder+'train_loss.npy',train_data[0])\r\n",
    "np.save(parameters.data_savepath+parameters.encder+'trainb _acc.npy',train_data[1])\r\n",
    "np.save(parameters.data_savepath+parameters.encder+'train_f1.npy',train_data[2]) \r\n",
    "np.save(parameters.data_savepath+parameters.encder+'train_iter.npy',train_data[3])\r\n",
    "\r\n",
    "np.save(parameters.data_savepath+parameters.encder+'eval_loss.npy',eval_data[0])\r\n",
    "np.save(parameters.data_savepath+parameters.encder+'eval_acc.npy',eval_data[1])\r\n",
    "np.save(parameters.data_savepath+parameters.encder+'eval_f1.npy',eval_data[2])\r\n",
    "np.save(parameters.data_savepath+parameters.encder+'eval_iter.npy',eval_data[3])'''"
   ]
  },
  {
   "cell_type": "code",
   "execution_count": 24,
   "metadata": {
    "collapsed": false
   },
   "outputs": [
    {
     "data": {
      "image/png": "[encoded data removed]",
      "text/plain": [
       "<Figure size 432x288 with 1 Axes>"
      ]
     },
     "metadata": {},
     "output_type": "display_data"
    }
   ],
   "source": [
    "import matplotlib.pyplot as plt \r\n",
    "plt.plot(train_data[3],train_data[0],label='train_loss')\r\n",
    "plt.plot(train_data[3],train_data[1],label='train_acc')\r\n",
    "plt.plot(train_data[3],train_data[2],label='train_f1')\r\n",
    "plt.legend()\r\n",
    "plt.title('encode is '+parameters.encder+\":train_process\")\r\n",
    "plt.ylabel('accuracy/loss/f1_score')\r\n",
    "plt.xlabel('step')\r\n",
    "#plt.ylim(0,1)\r\n",
    "plt.grid()\r\n",
    "plt.show()"
   ]
  },
  {
   "cell_type": "code",
   "execution_count": 25,
   "metadata": {
    "collapsed": false
   },
   "outputs": [
    {
     "data": {
      "image/png": "[encoded data removed]",
      "text/plain": [
       "<Figure size 432x288 with 1 Axes>"
      ]
     },
     "metadata": {},
     "output_type": "display_data"
    }
   ],
   "source": [
    "plt.plot(eval_data[3],eval_data[0],label='eval_loss')\r\n",
    "plt.plot(eval_data[3],eval_data[1],label='eval_acc')\r\n",
    "plt.plot(eval_data[3],eval_data[2],label='eval_f1score')\r\n",
    "plt.legend()\r\n",
    "plt.title('encode is '+parameters.encder+\":eval_process\")\r\n",
    "plt.ylabel('accuracy/loss/f1_score')\r\n",
    "plt.xlabel('step')\r\n",
    "#plt.ylim(0,1)\r\n",
    "plt.grid()\r\n",
    "plt.show()"
   ]
  },
  {
   "cell_type": "code",
   "execution_count": 22,
   "metadata": {
    "collapsed": false
   },
   "outputs": [
    {
     "data": {
      "image/png": "[encoded data removed]",
      "text/plain": [
       "<Figure size 432x288 with 1 Axes>"
      ]
     },
     "metadata": {},
     "output_type": "display_data"
    }
   ],
   "source": [
    "plt.plot(train_data[3],train_data[0],label='train_loss')\r\n",
    "plt.plot(eval_data[3],eval_data[0],label='eval_loss')\r\n",
    "plt.plot(train_data[3],train_data[1],label='train_acc')\r\n",
    "plt.plot(eval_data[3],eval_data[1],label='eval_acc')\r\n",
    "plt.plot(train_data[3],train_data[2],label='train_f1')\r\n",
    "plt.plot(eval_data[3],eval_data[2],label='eval_f1')\r\n",
    "plt.legend()\r\n",
    "plt.title('encode is '+parameters.encder+\":all_process\")\r\n",
    "plt.ylabel('accuracy/loss/f1')\r\n",
    "plt.xlabel('step')\r\n",
    "plt.ylim(0,1)\r\n",
    "plt.grid()"
   ]
  }
 ],
 "metadata": {
  "kernelspec": {
   "display_name": "Python 3",
   "language": "python",
   "name": "py35-paddle1.2.0"
  },
  "language_info": {
   "codemirror_mode": {
    "name": "ipython",
    "version": 3
   },
   "file_extension": ".py",
   "mimetype": "text/x-python",
   "name": "python",
   "nbconvert_exporter": "python",
   "pygments_lexer": "ipython3",
   "version": "3.7.4"
  }
 },
 "nbformat": 4,
 "nbformat_minor": 1
}
